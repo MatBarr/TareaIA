{
 "cells": [
  {
   "cell_type": "markdown",
   "metadata": {},
   "source": [
    "# Proyecto práctico\n",
    "\n",
    "## Unidad 3 - Aprendizaje supervisado\n",
    "\n",
    "El proyecto práctico consiste en abordar un problema de clasificación de documentos textuales. Tenemos a nuestra disposición un dataset de noticias de prensa en español publicada por el medio \"CNN Chile\".\n",
    "\n",
    "Las noticias están divididas en 7 categorías temáticas: *'pais','deportes','tendencias','tecnologias','cultura','economia','mundo'*\n",
    "\n",
    "El proyecto se divide en dos partes:\n",
    "\n",
    "- Utilizar al menos 3 estrategías para entrenar modelos de clasificación capaces de clasificar las noticias según su categoría temática.\n",
    "\n",
    "- Explorar cuáles son las características que permiten explicar las decisiones de su modelo.\n",
    "\n",
    "## 0. Evaluación\n",
    "\n",
    "El proyecto se realiza de forma individual. Se entrega a más tardar el **lunes 30 de noviembre** en su repositorio GitHub.\n",
    "\n",
    "**Pauta de evaluación:**\n",
    "\n",
    "Competencia 1: Aplicar un protocolo de aprendizaje supervisado para resolver un problema clasificación estandar, utilizando un entorno de programación en Python\n",
    "\n",
    "- < 2 : El protocolo de aprendizaje supervisado utilizado es incompleto y/o presenta errores importantes\n",
    "- 2 a 3.9 : El protocolo de aprendizaje supervisado utilizado es incompleto o presenta un error importante\n",
    "- 4 a 5.5 : El protocolo de aprendizaje es completo, no tiene error, pero las estrategias utilizadas son relativamente simples y el rendimiento de los modelos es perfectible.\n",
    "- 5.6 a 7.0 : El protocolo de aprendizaje es completo, no tiene error y al menos una de las estrategias utilizadas a necesitado un trabajado más avanzado y/o permite obtener un mejor rendimiento.\n",
    "\n",
    "Competencia 2: Explicar el rendimiento de un modelo de clasificación aplicando un protocolo de evaluación Precision/Recall/F-Score\n",
    "\n",
    "- < 2 : El trabajo no presenta explicaciones del rendimiento de los modelos de clasificación\n",
    "- 2 a 3.9 : El trabajo presenta algunas explicaciones pero tienen errores.\n",
    "- 4 a 5.5 : El trabajo presenta explicaciones correctas del rendimiento de los modelos\n",
    "- 5.6 a 7 : El trabajo presenta explicaciones correctas del rendimiento de los modelos y además presenta un método para explicar las decisiones/errores\n"
   ]
  },
  {
   "cell_type": "markdown",
   "metadata": {},
   "source": [
    "## 1. Dataset"
   ]
  },
  {
   "cell_type": "code",
   "execution_count": 1,
   "metadata": {},
   "outputs": [
    {
     "data": {
      "text/html": [
       "<div>\n",
       "<style scoped>\n",
       "    .dataframe tbody tr th:only-of-type {\n",
       "        vertical-align: middle;\n",
       "    }\n",
       "\n",
       "    .dataframe tbody tr th {\n",
       "        vertical-align: top;\n",
       "    }\n",
       "\n",
       "    .dataframe thead th {\n",
       "        text-align: right;\n",
       "    }\n",
       "</style>\n",
       "<table border=\"1\" class=\"dataframe\">\n",
       "  <thead>\n",
       "    <tr style=\"text-align: right;\">\n",
       "      <th></th>\n",
       "      <th>country</th>\n",
       "      <th>media_outlet</th>\n",
       "      <th>url</th>\n",
       "      <th>title</th>\n",
       "      <th>text</th>\n",
       "      <th>date</th>\n",
       "      <th>category</th>\n",
       "    </tr>\n",
       "  </thead>\n",
       "  <tbody>\n",
       "    <tr>\n",
       "      <th>0</th>\n",
       "      <td>chile</td>\n",
       "      <td>cnnchile</td>\n",
       "      <td>https://www.cnnchile.com/pais/pdta-del-colegio...</td>\n",
       "      <td>Pdta. del Colegio de Matronas explicó los ries...</td>\n",
       "      <td>La Federación de Estudiantes de la Universidad...</td>\n",
       "      <td>2018-03-29 00:00:00.000000</td>\n",
       "      <td>pais</td>\n",
       "    </tr>\n",
       "    <tr>\n",
       "      <th>1</th>\n",
       "      <td>chile</td>\n",
       "      <td>cnnchile</td>\n",
       "      <td>https://www.cnnchile.com/pais/defensoria-ninez...</td>\n",
       "      <td>Defensoría de la Niñez pide al Estado velar po...</td>\n",
       "      <td>La Defensoría de la Niñez emitió este domingo ...</td>\n",
       "      <td>2020-08-02 00:00:00.000000</td>\n",
       "      <td>pais</td>\n",
       "    </tr>\n",
       "    <tr>\n",
       "      <th>2</th>\n",
       "      <td>chile</td>\n",
       "      <td>cnnchile</td>\n",
       "      <td>https://www.cnnchile.com/pais/cuanto-les-pagar...</td>\n",
       "      <td>¿Cuánto les pagarán a los vocales de mesa?</td>\n",
       "      <td>El monto del bono es de dos tercios de Unidad ...</td>\n",
       "      <td>2016-10-20 00:00:00.000000</td>\n",
       "      <td>pais</td>\n",
       "    </tr>\n",
       "    <tr>\n",
       "      <th>3</th>\n",
       "      <td>chile</td>\n",
       "      <td>cnnchile</td>\n",
       "      <td>https://www.cnnchile.com/pais/sobrino-de-aleja...</td>\n",
       "      <td>Sobrino de Alejandro Navarro intenta “funar” e...</td>\n",
       "      <td>Una nueva polémica tiene esta carrera presiden...</td>\n",
       "      <td>2017-11-13 00:00:00.000000</td>\n",
       "      <td>pais</td>\n",
       "    </tr>\n",
       "    <tr>\n",
       "      <th>4</th>\n",
       "      <td>chile</td>\n",
       "      <td>cnnchile</td>\n",
       "      <td>https://www.cnnchile.com/pais/analisis-sobre-e...</td>\n",
       "      <td>Análisis sobre el aumento de impuestos para al...</td>\n",
       "      <td>Especialistas recomiendan no consumir más de 2...</td>\n",
       "      <td>2014-05-05 00:00:00.000000</td>\n",
       "      <td>pais</td>\n",
       "    </tr>\n",
       "    <tr>\n",
       "      <th>...</th>\n",
       "      <td>...</td>\n",
       "      <td>...</td>\n",
       "      <td>...</td>\n",
       "      <td>...</td>\n",
       "      <td>...</td>\n",
       "      <td>...</td>\n",
       "      <td>...</td>\n",
       "    </tr>\n",
       "    <tr>\n",
       "      <th>6995</th>\n",
       "      <td>chile</td>\n",
       "      <td>cnnchile</td>\n",
       "      <td>https://www.cnnchile.com/tecnologias/playstati...</td>\n",
       "      <td>PlayStation 5 vs Xbox Series X: Mira la compar...</td>\n",
       "      <td>Las compañías ya han revelado muchos detalles ...</td>\n",
       "      <td>2020-09-18 00:00:00.000000</td>\n",
       "      <td>tecnologias</td>\n",
       "    </tr>\n",
       "    <tr>\n",
       "      <th>6996</th>\n",
       "      <td>chile</td>\n",
       "      <td>cnnchile</td>\n",
       "      <td>https://www.cnnchile.com/tecnologias/android-l...</td>\n",
       "      <td>Android le dará “una paliza” a Windows en 2013</td>\n",
       "      <td>Se proyecta que tras un virtual empate en 2012...</td>\n",
       "      <td>2013-04-04 00:00:00.000000</td>\n",
       "      <td>tecnologias</td>\n",
       "    </tr>\n",
       "    <tr>\n",
       "      <th>6997</th>\n",
       "      <td>chile</td>\n",
       "      <td>cnnchile</td>\n",
       "      <td>https://www.cnnchile.com/tecnologias/regalos-t...</td>\n",
       "      <td>Regalos tecnológicos marcaron pauta en Navidad</td>\n",
       "      <td>Tablets y smartphones fueron los regalos tecno...</td>\n",
       "      <td>2012-12-26 00:00:00.000000</td>\n",
       "      <td>tecnologias</td>\n",
       "    </tr>\n",
       "    <tr>\n",
       "      <th>6998</th>\n",
       "      <td>chile</td>\n",
       "      <td>cnnchile</td>\n",
       "      <td>https://www.cnnchile.com/tecnologias/jugar-con...</td>\n",
       "      <td>Jugar con Fox en Starlink vale totalmente la p...</td>\n",
       "      <td>Crecí jugando clásicos de naves como Terminal ...</td>\n",
       "      <td>2018-10-30 00:00:00.000000</td>\n",
       "      <td>tecnologias</td>\n",
       "    </tr>\n",
       "    <tr>\n",
       "      <th>6999</th>\n",
       "      <td>chile</td>\n",
       "      <td>cnnchile</td>\n",
       "      <td>https://www.cnnchile.com/tecnologias/konami-la...</td>\n",
       "      <td>Konami lanza PES 2018 de forma gratuita para i...</td>\n",
       "      <td>Konami Digital Entertainment ha anunciado que ...</td>\n",
       "      <td>2017-11-10 00:00:00.000000</td>\n",
       "      <td>tecnologias</td>\n",
       "    </tr>\n",
       "  </tbody>\n",
       "</table>\n",
       "<p>7000 rows × 7 columns</p>\n",
       "</div>"
      ],
      "text/plain": [
       "     country media_outlet                                                url  \\\n",
       "0      chile     cnnchile  https://www.cnnchile.com/pais/pdta-del-colegio...   \n",
       "1      chile     cnnchile  https://www.cnnchile.com/pais/defensoria-ninez...   \n",
       "2      chile     cnnchile  https://www.cnnchile.com/pais/cuanto-les-pagar...   \n",
       "3      chile     cnnchile  https://www.cnnchile.com/pais/sobrino-de-aleja...   \n",
       "4      chile     cnnchile  https://www.cnnchile.com/pais/analisis-sobre-e...   \n",
       "...      ...          ...                                                ...   \n",
       "6995   chile     cnnchile  https://www.cnnchile.com/tecnologias/playstati...   \n",
       "6996   chile     cnnchile  https://www.cnnchile.com/tecnologias/android-l...   \n",
       "6997   chile     cnnchile  https://www.cnnchile.com/tecnologias/regalos-t...   \n",
       "6998   chile     cnnchile  https://www.cnnchile.com/tecnologias/jugar-con...   \n",
       "6999   chile     cnnchile  https://www.cnnchile.com/tecnologias/konami-la...   \n",
       "\n",
       "                                                  title  \\\n",
       "0     Pdta. del Colegio de Matronas explicó los ries...   \n",
       "1     Defensoría de la Niñez pide al Estado velar po...   \n",
       "2            ¿Cuánto les pagarán a los vocales de mesa?   \n",
       "3     Sobrino de Alejandro Navarro intenta “funar” e...   \n",
       "4     Análisis sobre el aumento de impuestos para al...   \n",
       "...                                                 ...   \n",
       "6995  PlayStation 5 vs Xbox Series X: Mira la compar...   \n",
       "6996     Android le dará “una paliza” a Windows en 2013   \n",
       "6997     Regalos tecnológicos marcaron pauta en Navidad   \n",
       "6998  Jugar con Fox en Starlink vale totalmente la p...   \n",
       "6999  Konami lanza PES 2018 de forma gratuita para i...   \n",
       "\n",
       "                                                   text  \\\n",
       "0     La Federación de Estudiantes de la Universidad...   \n",
       "1     La Defensoría de la Niñez emitió este domingo ...   \n",
       "2     El monto del bono es de dos tercios de Unidad ...   \n",
       "3     Una nueva polémica tiene esta carrera presiden...   \n",
       "4     Especialistas recomiendan no consumir más de 2...   \n",
       "...                                                 ...   \n",
       "6995  Las compañías ya han revelado muchos detalles ...   \n",
       "6996  Se proyecta que tras un virtual empate en 2012...   \n",
       "6997  Tablets y smartphones fueron los regalos tecno...   \n",
       "6998  Crecí jugando clásicos de naves como Terminal ...   \n",
       "6999  Konami Digital Entertainment ha anunciado que ...   \n",
       "\n",
       "                            date     category  \n",
       "0     2018-03-29 00:00:00.000000         pais  \n",
       "1     2020-08-02 00:00:00.000000         pais  \n",
       "2     2016-10-20 00:00:00.000000         pais  \n",
       "3     2017-11-13 00:00:00.000000         pais  \n",
       "4     2014-05-05 00:00:00.000000         pais  \n",
       "...                          ...          ...  \n",
       "6995  2020-09-18 00:00:00.000000  tecnologias  \n",
       "6996  2013-04-04 00:00:00.000000  tecnologias  \n",
       "6997  2012-12-26 00:00:00.000000  tecnologias  \n",
       "6998  2018-10-30 00:00:00.000000  tecnologias  \n",
       "6999  2017-11-10 00:00:00.000000  tecnologias  \n",
       "\n",
       "[7000 rows x 7 columns]"
      ]
     },
     "execution_count": 1,
     "metadata": {},
     "output_type": "execute_result"
    }
   ],
   "source": [
    "import pandas as pd\n",
    "\n",
    "df = pd.read_csv('cnnchile_7000.csv')\n",
    "df"
   ]
  },
  {
   "cell_type": "code",
   "execution_count": 2,
   "metadata": {},
   "outputs": [
    {
     "data": {
      "text/html": [
       "<div>\n",
       "<style scoped>\n",
       "    .dataframe tbody tr th:only-of-type {\n",
       "        vertical-align: middle;\n",
       "    }\n",
       "\n",
       "    .dataframe tbody tr th {\n",
       "        vertical-align: top;\n",
       "    }\n",
       "\n",
       "    .dataframe thead th {\n",
       "        text-align: right;\n",
       "    }\n",
       "</style>\n",
       "<table border=\"1\" class=\"dataframe\">\n",
       "  <thead>\n",
       "    <tr style=\"text-align: right;\">\n",
       "      <th></th>\n",
       "      <th>category</th>\n",
       "      <th>count(*)</th>\n",
       "    </tr>\n",
       "  </thead>\n",
       "  <tbody>\n",
       "    <tr>\n",
       "      <th>0</th>\n",
       "      <td>tendencias</td>\n",
       "      <td>1000</td>\n",
       "    </tr>\n",
       "    <tr>\n",
       "      <th>1</th>\n",
       "      <td>tecnologias</td>\n",
       "      <td>1000</td>\n",
       "    </tr>\n",
       "    <tr>\n",
       "      <th>2</th>\n",
       "      <td>pais</td>\n",
       "      <td>1000</td>\n",
       "    </tr>\n",
       "    <tr>\n",
       "      <th>3</th>\n",
       "      <td>mundo</td>\n",
       "      <td>1000</td>\n",
       "    </tr>\n",
       "    <tr>\n",
       "      <th>4</th>\n",
       "      <td>economia</td>\n",
       "      <td>1000</td>\n",
       "    </tr>\n",
       "    <tr>\n",
       "      <th>5</th>\n",
       "      <td>deportes</td>\n",
       "      <td>1000</td>\n",
       "    </tr>\n",
       "    <tr>\n",
       "      <th>6</th>\n",
       "      <td>cultura</td>\n",
       "      <td>1000</td>\n",
       "    </tr>\n",
       "  </tbody>\n",
       "</table>\n",
       "</div>"
      ],
      "text/plain": [
       "      category  count(*)\n",
       "0   tendencias      1000\n",
       "1  tecnologias      1000\n",
       "2         pais      1000\n",
       "3        mundo      1000\n",
       "4     economia      1000\n",
       "5     deportes      1000\n",
       "6      cultura      1000"
      ]
     },
     "execution_count": 2,
     "metadata": {},
     "output_type": "execute_result"
    }
   ],
   "source": [
    "from pandasql import sqldf\n",
    "\n",
    "q=\"\"\"SELECT category, count(*) FROM df GROUP BY category ORDER BY count(*) DESC;\"\"\"\n",
    "result=sqldf(q)\n",
    "result"
   ]
  },
  {
   "cell_type": "code",
   "execution_count": 3,
   "metadata": {},
   "outputs": [
    {
     "data": {
      "text/plain": [
       "Index(['country', 'media_outlet', 'url', 'title', 'text', 'date', 'category'], dtype='object')"
      ]
     },
     "execution_count": 3,
     "metadata": {},
     "output_type": "execute_result"
    }
   ],
   "source": [
    "df.columns"
   ]
  },
  {
   "cell_type": "code",
   "execution_count": 4,
   "metadata": {},
   "outputs": [
    {
     "data": {
      "text/html": [
       "<div>\n",
       "<style scoped>\n",
       "    .dataframe tbody tr th:only-of-type {\n",
       "        vertical-align: middle;\n",
       "    }\n",
       "\n",
       "    .dataframe tbody tr th {\n",
       "        vertical-align: top;\n",
       "    }\n",
       "\n",
       "    .dataframe thead th {\n",
       "        text-align: right;\n",
       "    }\n",
       "</style>\n",
       "<table border=\"1\" class=\"dataframe\">\n",
       "  <thead>\n",
       "    <tr style=\"text-align: right;\">\n",
       "      <th></th>\n",
       "      <th>country</th>\n",
       "      <th>media_outlet</th>\n",
       "      <th>url</th>\n",
       "      <th>title</th>\n",
       "      <th>text</th>\n",
       "      <th>date</th>\n",
       "      <th>category</th>\n",
       "    </tr>\n",
       "  </thead>\n",
       "  <tbody>\n",
       "    <tr>\n",
       "      <th>count</th>\n",
       "      <td>7000</td>\n",
       "      <td>7000</td>\n",
       "      <td>7000</td>\n",
       "      <td>6999</td>\n",
       "      <td>7000</td>\n",
       "      <td>7000</td>\n",
       "      <td>7000</td>\n",
       "    </tr>\n",
       "    <tr>\n",
       "      <th>unique</th>\n",
       "      <td>1</td>\n",
       "      <td>1</td>\n",
       "      <td>7000</td>\n",
       "      <td>6992</td>\n",
       "      <td>6795</td>\n",
       "      <td>2659</td>\n",
       "      <td>7</td>\n",
       "    </tr>\n",
       "    <tr>\n",
       "      <th>top</th>\n",
       "      <td>chile</td>\n",
       "      <td>cnnchile</td>\n",
       "      <td>https://www.cnnchile.com/cultura/libro-slavoj-...</td>\n",
       "      <td>Lo que marcó tendencia en la red durante la se...</td>\n",
       "      <td>Síguenos en @CNNChile con la actualización min...</td>\n",
       "      <td>2016-09-11 00:00:00.000000</td>\n",
       "      <td>tendencias</td>\n",
       "    </tr>\n",
       "    <tr>\n",
       "      <th>freq</th>\n",
       "      <td>7000</td>\n",
       "      <td>7000</td>\n",
       "      <td>1</td>\n",
       "      <td>4</td>\n",
       "      <td>58</td>\n",
       "      <td>118</td>\n",
       "      <td>1000</td>\n",
       "    </tr>\n",
       "  </tbody>\n",
       "</table>\n",
       "</div>"
      ],
      "text/plain": [
       "       country media_outlet  \\\n",
       "count     7000         7000   \n",
       "unique       1            1   \n",
       "top      chile     cnnchile   \n",
       "freq      7000         7000   \n",
       "\n",
       "                                                      url  \\\n",
       "count                                                7000   \n",
       "unique                                               7000   \n",
       "top     https://www.cnnchile.com/cultura/libro-slavoj-...   \n",
       "freq                                                    1   \n",
       "\n",
       "                                                    title  \\\n",
       "count                                                6999   \n",
       "unique                                               6992   \n",
       "top     Lo que marcó tendencia en la red durante la se...   \n",
       "freq                                                    4   \n",
       "\n",
       "                                                     text  \\\n",
       "count                                                7000   \n",
       "unique                                               6795   \n",
       "top     Síguenos en @CNNChile con la actualización min...   \n",
       "freq                                                   58   \n",
       "\n",
       "                              date    category  \n",
       "count                         7000        7000  \n",
       "unique                        2659           7  \n",
       "top     2016-09-11 00:00:00.000000  tendencias  \n",
       "freq                           118        1000  "
      ]
     },
     "execution_count": 4,
     "metadata": {},
     "output_type": "execute_result"
    }
   ],
   "source": [
    "df.describe()"
   ]
  },
  {
   "cell_type": "code",
   "execution_count": 6,
   "metadata": {},
   "outputs": [],
   "source": [
    "#!pip install -U spacy\n",
    "\n",
    "#!python -m spacy download en"
   ]
  },
  {
   "cell_type": "code",
   "execution_count": 7,
   "metadata": {},
   "outputs": [],
   "source": [
    "import spacy\n",
    "\n",
    "nlp = spacy.load(\"en\")"
   ]
  },
  {
   "cell_type": "code",
   "execution_count": 8,
   "metadata": {},
   "outputs": [],
   "source": [
    "def feature_extraction(text):\n",
    "    \n",
    "    mytokens = nlp(text)\n",
    "\n",
    "    #Guardamos las palabras como características si corresponden a ciertas categorias gramaticales\n",
    "    mytokens = [ word for word in mytokens if word.pos_ in [\"NOUN\", \"ADJ\", \"VERB\"] ]\n",
    "    \n",
    "    #Transformamos las palabras en minusculas\n",
    "    mytokens = [ word.lemma_.lower().strip() for word in mytokens ]\n",
    "\n",
    "    # return preprocessed list of tokens\n",
    "    return mytokens"
   ]
  },
  {
   "cell_type": "code",
   "execution_count": 9,
   "metadata": {},
   "outputs": [],
   "source": [
    "from sklearn.feature_extraction.text import TfidfVectorizer\n",
    "\n",
    "tfidf_vector = TfidfVectorizer(tokenizer = feature_extraction, min_df=0., max_df=1.0)"
   ]
  },
  {
   "cell_type": "code",
   "execution_count": 10,
   "metadata": {},
   "outputs": [],
   "source": [
    "train_size = 700\n",
    "test_size = 1000 - train_size"
   ]
  },
  {
   "cell_type": "code",
   "execution_count": 11,
   "metadata": {},
   "outputs": [
    {
     "data": {
      "text/html": [
       "<div>\n",
       "<style scoped>\n",
       "    .dataframe tbody tr th:only-of-type {\n",
       "        vertical-align: middle;\n",
       "    }\n",
       "\n",
       "    .dataframe tbody tr th {\n",
       "        vertical-align: top;\n",
       "    }\n",
       "\n",
       "    .dataframe thead th {\n",
       "        text-align: right;\n",
       "    }\n",
       "</style>\n",
       "<table border=\"1\" class=\"dataframe\">\n",
       "  <thead>\n",
       "    <tr style=\"text-align: right;\">\n",
       "      <th></th>\n",
       "      <th>category</th>\n",
       "      <th>count(*)</th>\n",
       "    </tr>\n",
       "  </thead>\n",
       "  <tbody>\n",
       "    <tr>\n",
       "      <th>0</th>\n",
       "      <td>tendencias</td>\n",
       "      <td>700</td>\n",
       "    </tr>\n",
       "    <tr>\n",
       "      <th>1</th>\n",
       "      <td>tecnologias</td>\n",
       "      <td>700</td>\n",
       "    </tr>\n",
       "    <tr>\n",
       "      <th>2</th>\n",
       "      <td>pais</td>\n",
       "      <td>700</td>\n",
       "    </tr>\n",
       "    <tr>\n",
       "      <th>3</th>\n",
       "      <td>mundo</td>\n",
       "      <td>700</td>\n",
       "    </tr>\n",
       "    <tr>\n",
       "      <th>4</th>\n",
       "      <td>economia</td>\n",
       "      <td>700</td>\n",
       "    </tr>\n",
       "    <tr>\n",
       "      <th>5</th>\n",
       "      <td>deportes</td>\n",
       "      <td>700</td>\n",
       "    </tr>\n",
       "    <tr>\n",
       "      <th>6</th>\n",
       "      <td>cultura</td>\n",
       "      <td>700</td>\n",
       "    </tr>\n",
       "  </tbody>\n",
       "</table>\n",
       "</div>"
      ],
      "text/plain": [
       "      category  count(*)\n",
       "0   tendencias       700\n",
       "1  tecnologias       700\n",
       "2         pais       700\n",
       "3        mundo       700\n",
       "4     economia       700\n",
       "5     deportes       700\n",
       "6      cultura       700"
      ]
     },
     "execution_count": 11,
     "metadata": {},
     "output_type": "execute_result"
    }
   ],
   "source": [
    "new_df = df.groupby('category').apply(lambda x: x.sample(n=train_size)).reset_index(drop = True)\n",
    "q=\"\"\"SELECT category, count(*) FROM new_df GROUP BY category ORDER BY count(*) DESC;\"\"\"\n",
    "result=sqldf(q)\n",
    "result"
   ]
  },
  {
   "cell_type": "code",
   "execution_count": 12,
   "metadata": {},
   "outputs": [
    {
     "data": {
      "text/html": [
       "<div>\n",
       "<style scoped>\n",
       "    .dataframe tbody tr th:only-of-type {\n",
       "        vertical-align: middle;\n",
       "    }\n",
       "\n",
       "    .dataframe tbody tr th {\n",
       "        vertical-align: top;\n",
       "    }\n",
       "\n",
       "    .dataframe thead th {\n",
       "        text-align: right;\n",
       "    }\n",
       "</style>\n",
       "<table border=\"1\" class=\"dataframe\">\n",
       "  <thead>\n",
       "    <tr style=\"text-align: right;\">\n",
       "      <th></th>\n",
       "      <th>category</th>\n",
       "      <th>count(*)</th>\n",
       "    </tr>\n",
       "  </thead>\n",
       "  <tbody>\n",
       "    <tr>\n",
       "      <th>0</th>\n",
       "      <td>tendencias</td>\n",
       "      <td>300</td>\n",
       "    </tr>\n",
       "    <tr>\n",
       "      <th>1</th>\n",
       "      <td>tecnologias</td>\n",
       "      <td>300</td>\n",
       "    </tr>\n",
       "    <tr>\n",
       "      <th>2</th>\n",
       "      <td>pais</td>\n",
       "      <td>300</td>\n",
       "    </tr>\n",
       "    <tr>\n",
       "      <th>3</th>\n",
       "      <td>mundo</td>\n",
       "      <td>300</td>\n",
       "    </tr>\n",
       "    <tr>\n",
       "      <th>4</th>\n",
       "      <td>economia</td>\n",
       "      <td>300</td>\n",
       "    </tr>\n",
       "    <tr>\n",
       "      <th>5</th>\n",
       "      <td>deportes</td>\n",
       "      <td>300</td>\n",
       "    </tr>\n",
       "    <tr>\n",
       "      <th>6</th>\n",
       "      <td>cultura</td>\n",
       "      <td>300</td>\n",
       "    </tr>\n",
       "  </tbody>\n",
       "</table>\n",
       "</div>"
      ],
      "text/plain": [
       "      category  count(*)\n",
       "0   tendencias       300\n",
       "1  tecnologias       300\n",
       "2         pais       300\n",
       "3        mundo       300\n",
       "4     economia       300\n",
       "5     deportes       300\n",
       "6      cultura       300"
      ]
     },
     "execution_count": 12,
     "metadata": {},
     "output_type": "execute_result"
    }
   ],
   "source": [
    "test_df = pd.concat([df ,new_df]).drop_duplicates(keep=False)\n",
    "q=\"\"\"SELECT category, count(*) FROM test_df GROUP BY category ORDER BY count(*) DESC;\"\"\"\n",
    "result=sqldf(q)\n",
    "result"
   ]
  },
  {
   "cell_type": "code",
   "execution_count": 13,
   "metadata": {},
   "outputs": [],
   "source": [
    "from sklearn.model_selection import train_test_split\n",
    "\n",
    "X = df['text']\n",
    "#Xt = df['title']\n",
    "\n",
    "ylabels = df['category']\n",
    "X_train = new_df['text']\n",
    "X_test = test_df['text']\n",
    "#Xt_train = new_df['title']\n",
    "ylabels_train = new_df['category']\n",
    "ylabels_test = test_df['category']"
   ]
  },
  {
   "cell_type": "code",
   "execution_count": 14,
   "metadata": {},
   "outputs": [
    {
     "data": {
      "text/plain": [
       "{'cultura': 1,\n",
       " 'deportes': 2,\n",
       " 'economia': 3,\n",
       " 'mundo': 4,\n",
       " 'pais': 5,\n",
       " 'tecnologias': 6,\n",
       " 'tendencias': 7}"
      ]
     },
     "execution_count": 14,
     "metadata": {},
     "output_type": "execute_result"
    }
   ],
   "source": [
    "labels = ylabels_train.unique()\n",
    "lb_train_dict = {}\n",
    "for i, lb in enumerate(labels):\n",
    "    lb_train_dict[lb] = i + 1\n",
    "lb_train_dict"
   ]
  },
  {
   "cell_type": "code",
   "execution_count": 15,
   "metadata": {},
   "outputs": [],
   "source": [
    "ylabels_train_target = [lb_train_dict[lb] for lb in ylabels_train]\n",
    "ylabels_test_target = [lb_train_dict[lb] for lb in ylabels_test]\n",
    "ylabels_target = [lb_train_dict[lb] for lb in ylabels]"
   ]
  },
  {
   "cell_type": "markdown",
   "metadata": {},
   "source": [
    "count_vect = CountVectorizer()\n",
    "X_train_counts = count_vect.fit_transform(X_train)\n",
    "X_train_counts.shape\n",
    "tfidf_transformer = TfidfTransformer()\n",
    "X_train_tfidf = tfidf_transformer.fit_transform(X_train_counts)\n",
    "X_train_tfidf.shape"
   ]
  },
  {
   "cell_type": "code",
   "execution_count": 16,
   "metadata": {},
   "outputs": [],
   "source": [
    "from sklearn.feature_extraction.text import CountVectorizer, TfidfTransformer\n",
    "from sklearn.pipeline import Pipeline\n",
    "from sklearn.naive_bayes import MultinomialNB\n",
    "from sklearn.linear_model import SGDClassifier\n",
    "from sklearn.neighbors import KNeighborsClassifier\n",
    "from sklearn import metrics\n",
    "import numpy as np"
   ]
  },
  {
   "cell_type": "code",
   "execution_count": 17,
   "metadata": {},
   "outputs": [
    {
     "data": {
      "text/plain": [
       "0.7414285714285714"
      ]
     },
     "execution_count": 17,
     "metadata": {},
     "output_type": "execute_result"
    }
   ],
   "source": [
    "text_clf = Pipeline([\n",
    "                    ('vect', CountVectorizer()),\n",
    "                    ('tfidf', TfidfTransformer()),\n",
    "                    ('clf', MultinomialNB()),\n",
    "                     ])\n",
    "\n",
    "text_clf.fit(X_train, ylabels_train_target)\n",
    "#predicted = text_clf.predict(X)\n",
    "#np.mean(predicted == ylabels_target)\n",
    "\n",
    "predicted = text_clf.predict(X_test)\n",
    "np.mean(predicted == ylabels_test_target)"
   ]
  },
  {
   "cell_type": "code",
   "execution_count": 18,
   "metadata": {},
   "outputs": [
    {
     "name": "stdout",
     "output_type": "stream",
     "text": [
      "              precision    recall  f1-score   support\n",
      "\n",
      "     cultura       0.65      0.96      0.78       300\n",
      "    deportes       0.91      0.82      0.87       300\n",
      "    economia       0.68      0.83      0.75       300\n",
      "       mundo       0.79      0.71      0.75       300\n",
      "        pais       0.78      0.73      0.75       300\n",
      " tecnologias       0.67      0.71      0.69       300\n",
      "  tendencias       0.83      0.42      0.56       300\n",
      "\n",
      "    accuracy                           0.74      2100\n",
      "   macro avg       0.76      0.74      0.73      2100\n",
      "weighted avg       0.76      0.74      0.73      2100\n",
      "\n"
     ]
    }
   ],
   "source": [
    "print(metrics.classification_report(ylabels_test_target,\n",
    "                                   predicted,\n",
    "                                   target_names=labels))"
   ]
  },
  {
   "cell_type": "code",
   "execution_count": 19,
   "metadata": {},
   "outputs": [
    {
     "data": {
      "text/plain": [
       "0.790952380952381"
      ]
     },
     "execution_count": 19,
     "metadata": {},
     "output_type": "execute_result"
    }
   ],
   "source": [
    "text_clf = Pipeline([\n",
    "                    ('vect', CountVectorizer()),\n",
    "                    ('tfidf', TfidfTransformer()),\n",
    "                    ('clf', SGDClassifier(loss='modified_huber', penalty='l2',\n",
    "                                          alpha=1e-3, random_state=42,\n",
    "                                          max_iter=50, tol=None)),\n",
    "                    ])\n",
    "\n",
    "text_clf.fit(X_train, ylabels_train_target)\n",
    "predicted = text_clf.predict(X_test)\n",
    "np.mean(predicted == ylabels_test_target)"
   ]
  },
  {
   "cell_type": "code",
   "execution_count": 20,
   "metadata": {},
   "outputs": [
    {
     "name": "stdout",
     "output_type": "stream",
     "text": [
      "              precision    recall  f1-score   support\n",
      "\n",
      "     cultura       0.84      0.92      0.88       300\n",
      "    deportes       0.82      0.88      0.85       300\n",
      "    economia       0.76      0.84      0.80       300\n",
      "       mundo       0.83      0.77      0.80       300\n",
      "        pais       0.79      0.75      0.77       300\n",
      " tecnologias       0.77      0.74      0.75       300\n",
      "  tendencias       0.73      0.64      0.68       300\n",
      "\n",
      "    accuracy                           0.79      2100\n",
      "   macro avg       0.79      0.79      0.79      2100\n",
      "weighted avg       0.79      0.79      0.79      2100\n",
      "\n"
     ]
    }
   ],
   "source": [
    "print(metrics.classification_report(ylabels_test_target,\n",
    "                                   predicted,\n",
    "                                   target_names=labels))"
   ]
  },
  {
   "cell_type": "code",
   "execution_count": 25,
   "metadata": {},
   "outputs": [
    {
     "name": "stdout",
     "output_type": "stream",
     "text": [
      "k: 18   0.6823809523809524\n"
     ]
    }
   ],
   "source": [
    "k = 18\n",
    "#for k in range(15, 45):\n",
    "text_clf = Pipeline([\n",
    "                    ('vect', CountVectorizer()),\n",
    "                    ('tfidf', TfidfTransformer()),\n",
    "                    ('clf', KNeighborsClassifier(n_neighbors=k)),\n",
    "                    ])\n",
    "text_clf.fit(X_train, ylabels_train_target)\n",
    "predicted = text_clf.predict(X_test)\n",
    "print(f'k: {k}   {np.mean(predicted == ylabels_test_target)}')"
   ]
  },
  {
   "cell_type": "code",
   "execution_count": 26,
   "metadata": {},
   "outputs": [
    {
     "name": "stdout",
     "output_type": "stream",
     "text": [
      "              precision    recall  f1-score   support\n",
      "\n",
      "     cultura       0.56      0.95      0.71       300\n",
      "    deportes       0.85      0.73      0.79       300\n",
      "    economia       0.78      0.71      0.75       300\n",
      "       mundo       0.76      0.63      0.69       300\n",
      "        pais       0.67      0.65      0.66       300\n",
      " tecnologias       0.63      0.76      0.69       300\n",
      "  tendencias       0.62      0.34      0.44       300\n",
      "\n",
      "    accuracy                           0.68      2100\n",
      "   macro avg       0.70      0.68      0.67      2100\n",
      "weighted avg       0.70      0.68      0.67      2100\n",
      "\n"
     ]
    }
   ],
   "source": [
    "print(metrics.classification_report(ylabels_test_target,\n",
    "                                   predicted,\n",
    "                                   target_names=labels))"
   ]
  },
  {
   "cell_type": "code",
   "execution_count": null,
   "metadata": {},
   "outputs": [],
   "source": []
  }
 ],
 "metadata": {
  "kernelspec": {
   "display_name": "Python 3",
   "language": "python",
   "name": "python3"
  },
  "language_info": {
   "codemirror_mode": {
    "name": "ipython",
    "version": 3
   },
   "file_extension": ".py",
   "mimetype": "text/x-python",
   "name": "python",
   "nbconvert_exporter": "python",
   "pygments_lexer": "ipython3",
   "version": "3.7.9"
  },
  "toc": {
   "base_numbering": 1,
   "nav_menu": {},
   "number_sections": true,
   "sideBar": true,
   "skip_h1_title": false,
   "title_cell": "Table of Contents",
   "title_sidebar": "Contents",
   "toc_cell": false,
   "toc_position": {},
   "toc_section_display": true,
   "toc_window_display": false
  }
 },
 "nbformat": 4,
 "nbformat_minor": 2
}
